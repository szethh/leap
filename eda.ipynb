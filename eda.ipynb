{
 "cells": [
  {
   "cell_type": "code",
   "execution_count": 5,
   "metadata": {},
   "outputs": [],
   "source": [
    "import numpy as np\n",
    "import pandas as pd\n",
    "from glob import glob\n",
    "from tqdm import tqdm\n",
    "from sklearn.metrics import r2_score\n",
    "from utils import target_cols, feat_cols"
   ]
  },
  {
   "cell_type": "code",
   "execution_count": 10,
   "metadata": {},
   "outputs": [],
   "source": [
    "# using giba's dataset since it's already in parquet format\n",
    "# Dataset: https://www.kaggle.com/datasets/titericz/leap-dataset-giba\n",
    "# This dataset was created using all train and test data.\n",
    "# Train is 10M samples and was split in 17 parquet files. Test is a single parquet file.\n",
    "# /kaggle/input/leap-dataset-giba/\n",
    "train_files = sorted(glob(\"./data/train_batch/*.parquet\"))\n",
    "test_files = glob(\"./data/test_batch/*.parquet\")"
   ]
  },
  {
   "cell_type": "code",
   "execution_count": 11,
   "metadata": {},
   "outputs": [
    {
     "data": {
      "text/plain": [
       "((625000, 793), (625000, 793), (625000, 491))"
      ]
     },
     "execution_count": 11,
     "metadata": {},
     "output_type": "execute_result"
    }
   ],
   "source": [
    "# Train on 2/8 of the full dataset\n",
    "train = pd.read_parquet(train_files[:1]).astype('float32')\n",
    "# Validate on last parquet file (625000 samples)\n",
    "valid = pd.read_parquet(train_files[-1]).astype('float32')\n",
    "test  = pd.read_parquet(test_files[0]).astype('float32')\n",
    "\n",
    "train.shape, valid.shape, test.shape"
   ]
  },
  {
   "cell_type": "code",
   "execution_count": 17,
   "metadata": {},
   "outputs": [
    {
     "data": {
      "text/html": [
       "<div>\n",
       "<style scoped>\n",
       "    .dataframe tbody tr th:only-of-type {\n",
       "        vertical-align: middle;\n",
       "    }\n",
       "\n",
       "    .dataframe tbody tr th {\n",
       "        vertical-align: top;\n",
       "    }\n",
       "\n",
       "    .dataframe thead th {\n",
       "        text-align: right;\n",
       "    }\n",
       "</style>\n",
       "<table border=\"1\" class=\"dataframe\">\n",
       "  <thead>\n",
       "    <tr style=\"text-align: right;\">\n",
       "      <th></th>\n",
       "      <th>sample_id</th>\n",
       "      <th>state_t_0</th>\n",
       "      <th>state_t_1</th>\n",
       "      <th>state_t_2</th>\n",
       "      <th>state_t_3</th>\n",
       "      <th>state_t_4</th>\n",
       "      <th>state_t_5</th>\n",
       "      <th>state_t_6</th>\n",
       "      <th>state_t_7</th>\n",
       "      <th>state_t_8</th>\n",
       "      <th>...</th>\n",
       "      <th>pbuf_N2O_17</th>\n",
       "      <th>pbuf_N2O_18</th>\n",
       "      <th>pbuf_N2O_19</th>\n",
       "      <th>pbuf_N2O_20</th>\n",
       "      <th>pbuf_N2O_21</th>\n",
       "      <th>pbuf_N2O_22</th>\n",
       "      <th>pbuf_N2O_23</th>\n",
       "      <th>pbuf_N2O_24</th>\n",
       "      <th>pbuf_N2O_25</th>\n",
       "      <th>pbuf_N2O_26</th>\n",
       "    </tr>\n",
       "  </thead>\n",
       "  <tbody>\n",
       "    <tr>\n",
       "      <th>0</th>\n",
       "      <td>169651.0</td>\n",
       "      <td>209.750</td>\n",
       "      <td>220.750</td>\n",
       "      <td>227.750</td>\n",
       "      <td>241.375</td>\n",
       "      <td>254.625</td>\n",
       "      <td>262.25</td>\n",
       "      <td>261.25</td>\n",
       "      <td>254.000</td>\n",
       "      <td>243.875</td>\n",
       "      <td>...</td>\n",
       "      <td>4.172325e-07</td>\n",
       "      <td>4.172325e-07</td>\n",
       "      <td>4.172325e-07</td>\n",
       "      <td>4.768372e-07</td>\n",
       "      <td>4.768372e-07</td>\n",
       "      <td>4.768372e-07</td>\n",
       "      <td>4.768372e-07</td>\n",
       "      <td>4.768372e-07</td>\n",
       "      <td>4.768372e-07</td>\n",
       "      <td>4.768372e-07</td>\n",
       "    </tr>\n",
       "    <tr>\n",
       "      <th>1</th>\n",
       "      <td>524862.0</td>\n",
       "      <td>208.375</td>\n",
       "      <td>219.250</td>\n",
       "      <td>228.250</td>\n",
       "      <td>242.125</td>\n",
       "      <td>256.250</td>\n",
       "      <td>263.75</td>\n",
       "      <td>261.75</td>\n",
       "      <td>253.625</td>\n",
       "      <td>243.750</td>\n",
       "      <td>...</td>\n",
       "      <td>3.576279e-07</td>\n",
       "      <td>4.172325e-07</td>\n",
       "      <td>4.172325e-07</td>\n",
       "      <td>4.768372e-07</td>\n",
       "      <td>4.768372e-07</td>\n",
       "      <td>4.768372e-07</td>\n",
       "      <td>4.768372e-07</td>\n",
       "      <td>4.768372e-07</td>\n",
       "      <td>4.768372e-07</td>\n",
       "      <td>4.768372e-07</td>\n",
       "    </tr>\n",
       "    <tr>\n",
       "      <th>2</th>\n",
       "      <td>634129.0</td>\n",
       "      <td>213.125</td>\n",
       "      <td>229.375</td>\n",
       "      <td>233.375</td>\n",
       "      <td>242.625</td>\n",
       "      <td>252.875</td>\n",
       "      <td>261.00</td>\n",
       "      <td>261.00</td>\n",
       "      <td>253.000</td>\n",
       "      <td>240.875</td>\n",
       "      <td>...</td>\n",
       "      <td>4.172325e-07</td>\n",
       "      <td>4.172325e-07</td>\n",
       "      <td>4.768372e-07</td>\n",
       "      <td>4.768372e-07</td>\n",
       "      <td>4.768372e-07</td>\n",
       "      <td>4.768372e-07</td>\n",
       "      <td>4.768372e-07</td>\n",
       "      <td>4.768372e-07</td>\n",
       "      <td>4.768372e-07</td>\n",
       "      <td>4.768372e-07</td>\n",
       "    </tr>\n",
       "    <tr>\n",
       "      <th>3</th>\n",
       "      <td>403572.0</td>\n",
       "      <td>212.000</td>\n",
       "      <td>226.000</td>\n",
       "      <td>231.000</td>\n",
       "      <td>241.000</td>\n",
       "      <td>252.875</td>\n",
       "      <td>262.25</td>\n",
       "      <td>262.00</td>\n",
       "      <td>253.125</td>\n",
       "      <td>241.125</td>\n",
       "      <td>...</td>\n",
       "      <td>4.172325e-07</td>\n",
       "      <td>4.172325e-07</td>\n",
       "      <td>4.768372e-07</td>\n",
       "      <td>4.768372e-07</td>\n",
       "      <td>4.768372e-07</td>\n",
       "      <td>4.768372e-07</td>\n",
       "      <td>4.768372e-07</td>\n",
       "      <td>4.768372e-07</td>\n",
       "      <td>4.768372e-07</td>\n",
       "      <td>4.768372e-07</td>\n",
       "    </tr>\n",
       "    <tr>\n",
       "      <th>4</th>\n",
       "      <td>484578.0</td>\n",
       "      <td>207.875</td>\n",
       "      <td>216.750</td>\n",
       "      <td>227.875</td>\n",
       "      <td>243.500</td>\n",
       "      <td>257.500</td>\n",
       "      <td>265.25</td>\n",
       "      <td>263.00</td>\n",
       "      <td>253.750</td>\n",
       "      <td>243.500</td>\n",
       "      <td>...</td>\n",
       "      <td>3.576279e-07</td>\n",
       "      <td>4.172325e-07</td>\n",
       "      <td>4.172325e-07</td>\n",
       "      <td>4.768372e-07</td>\n",
       "      <td>4.768372e-07</td>\n",
       "      <td>4.768372e-07</td>\n",
       "      <td>4.768372e-07</td>\n",
       "      <td>4.768372e-07</td>\n",
       "      <td>4.768372e-07</td>\n",
       "      <td>4.768372e-07</td>\n",
       "    </tr>\n",
       "  </tbody>\n",
       "</table>\n",
       "<p>5 rows × 491 columns</p>\n",
       "</div>"
      ],
      "text/plain": [
       "   sample_id  state_t_0  state_t_1  state_t_2  state_t_3  state_t_4  \\\n",
       "0   169651.0    209.750    220.750    227.750    241.375    254.625   \n",
       "1   524862.0    208.375    219.250    228.250    242.125    256.250   \n",
       "2   634129.0    213.125    229.375    233.375    242.625    252.875   \n",
       "3   403572.0    212.000    226.000    231.000    241.000    252.875   \n",
       "4   484578.0    207.875    216.750    227.875    243.500    257.500   \n",
       "\n",
       "   state_t_5  state_t_6  state_t_7  state_t_8  ...   pbuf_N2O_17  \\\n",
       "0     262.25     261.25    254.000    243.875  ...  4.172325e-07   \n",
       "1     263.75     261.75    253.625    243.750  ...  3.576279e-07   \n",
       "2     261.00     261.00    253.000    240.875  ...  4.172325e-07   \n",
       "3     262.25     262.00    253.125    241.125  ...  4.172325e-07   \n",
       "4     265.25     263.00    253.750    243.500  ...  3.576279e-07   \n",
       "\n",
       "    pbuf_N2O_18   pbuf_N2O_19   pbuf_N2O_20   pbuf_N2O_21   pbuf_N2O_22  \\\n",
       "0  4.172325e-07  4.172325e-07  4.768372e-07  4.768372e-07  4.768372e-07   \n",
       "1  4.172325e-07  4.172325e-07  4.768372e-07  4.768372e-07  4.768372e-07   \n",
       "2  4.172325e-07  4.768372e-07  4.768372e-07  4.768372e-07  4.768372e-07   \n",
       "3  4.172325e-07  4.768372e-07  4.768372e-07  4.768372e-07  4.768372e-07   \n",
       "4  4.172325e-07  4.172325e-07  4.768372e-07  4.768372e-07  4.768372e-07   \n",
       "\n",
       "    pbuf_N2O_23   pbuf_N2O_24   pbuf_N2O_25   pbuf_N2O_26  \n",
       "0  4.768372e-07  4.768372e-07  4.768372e-07  4.768372e-07  \n",
       "1  4.768372e-07  4.768372e-07  4.768372e-07  4.768372e-07  \n",
       "2  4.768372e-07  4.768372e-07  4.768372e-07  4.768372e-07  \n",
       "3  4.768372e-07  4.768372e-07  4.768372e-07  4.768372e-07  \n",
       "4  4.768372e-07  4.768372e-07  4.768372e-07  4.768372e-07  \n",
       "\n",
       "[5 rows x 491 columns]"
      ]
     },
     "execution_count": 17,
     "metadata": {},
     "output_type": "execute_result"
    }
   ],
   "source": [
    "test.head()"
   ]
  },
  {
   "cell_type": "markdown",
   "metadata": {},
   "source": [
    "# Model"
   ]
  },
  {
   "cell_type": "code",
   "execution_count": 12,
   "metadata": {},
   "outputs": [],
   "source": [
    "import torch\n",
    "import torch.nn as nn\n",
    "import torch.optim as optim\n",
    "from sklearn.metrics import r2_score"
   ]
  },
  {
   "cell_type": "code",
   "execution_count": 54,
   "metadata": {},
   "outputs": [],
   "source": [
    "class TabularModel(nn.Module):\n",
    "    def __init__(self, input_size, output_size):\n",
    "        super(TabularModel, self).__init__()\n",
    "        self.fc1 = nn.Linear(input_size, 256)\n",
    "        self.fc2 = nn.Linear(256, 256)\n",
    "        self.dp1 = nn.Dropout(0.2)\n",
    "        self.fc3 = nn.Linear(256, 128)\n",
    "        self.fc4 = nn.Linear(128, 64)\n",
    "        self.fc5 = nn.Linear(64, output_size)\n",
    "        self.relu = nn.ReLU()\n",
    "    \n",
    "    def forward(self, x):\n",
    "        x = self.relu(self.fc1(x))\n",
    "        x = self.relu(self.fc2(x))\n",
    "        x = self.dp1(x)\n",
    "        x = self.relu(self.fc3(x))\n",
    "        x = self.relu(self.fc4(x))\n",
    "        x = self.fc5(x)\n",
    "        return x"
   ]
  },
  {
   "cell_type": "markdown",
   "metadata": {},
   "source": [
    "## Data processing"
   ]
  },
  {
   "cell_type": "code",
   "execution_count": 75,
   "metadata": {},
   "outputs": [
    {
     "name": "stdout",
     "output_type": "stream",
     "text": [
      "Warning: Columns ['state_ps', 'pbuf_SOLIN', 'pbuf_LHFLX', 'pbuf_SHFLX', 'pbuf_TAUX', 'pbuf_TAUY', 'pbuf_COSZRS', 'cam_in_ALDIF', 'cam_in_ALDIR', 'cam_in_ASDIF', 'cam_in_ASDIR', 'cam_in_LWUP', 'cam_in_ICEFRAC', 'cam_in_LANDFRAC', 'cam_in_OCNFRAC', 'cam_in_SNOWHLAND', 'state_t_0', 'state_t_1', 'state_t_2', 'state_t_3', 'state_t_4', 'state_t_5', 'state_t_6', 'state_t_7', 'state_t_8', 'state_t_9', 'state_t_10', 'state_t_11', 'state_t_12', 'state_t_13', 'state_t_14', 'state_t_15', 'state_t_16', 'state_t_17', 'state_t_18', 'state_t_19', 'state_t_20', 'state_t_21', 'state_t_22', 'state_t_23', 'state_t_24', 'state_t_25', 'state_t_26', 'state_t_27', 'state_t_28', 'state_t_29', 'state_t_30', 'state_t_31', 'state_t_32', 'state_t_33', 'state_t_34', 'state_t_35', 'state_t_36', 'state_t_37', 'state_t_38', 'state_t_39', 'state_t_40', 'state_t_41', 'state_t_42', 'state_t_43', 'state_t_44', 'state_t_45', 'state_t_46', 'state_t_47', 'state_t_48', 'state_t_49', 'state_t_50', 'state_t_51', 'state_t_52', 'state_t_53', 'state_t_54', 'state_t_55', 'state_t_56', 'state_t_57', 'state_t_58', 'state_t_59', 'state_q0001_0', 'state_q0001_1', 'state_q0001_2', 'state_q0001_3', 'state_q0001_4', 'state_q0001_5', 'state_q0001_6', 'state_q0001_7', 'state_q0001_8', 'state_q0001_9', 'state_q0001_10', 'state_q0001_11', 'state_q0001_12', 'state_q0001_13', 'state_q0001_14', 'state_q0001_15', 'state_q0001_16', 'state_q0001_17', 'state_q0001_18', 'state_q0001_19', 'state_q0001_20', 'state_q0001_21', 'state_q0001_22', 'state_q0001_23', 'state_q0001_24', 'state_q0001_25', 'state_q0001_26', 'state_q0001_27', 'state_q0001_28', 'state_q0001_29', 'state_q0001_30', 'state_q0001_31', 'state_q0001_32', 'state_q0001_33', 'state_q0001_34', 'state_q0001_35', 'state_q0001_36', 'state_q0001_37', 'state_q0001_38', 'state_q0001_39', 'state_q0001_40', 'state_q0001_41', 'state_q0001_42', 'state_q0001_43', 'state_q0001_44', 'state_q0001_45', 'state_q0001_46', 'state_q0001_47', 'state_q0001_48', 'state_q0001_49', 'state_q0001_50', 'state_q0001_51', 'state_q0001_52', 'state_q0001_53', 'state_q0001_54', 'state_q0001_55', 'state_q0001_56', 'state_q0001_57', 'state_q0001_58', 'state_q0001_59', 'state_q0002_0', 'state_q0002_1', 'state_q0002_2', 'state_q0002_3', 'state_q0002_4', 'state_q0002_5', 'state_q0002_6', 'state_q0002_7', 'state_q0002_8', 'state_q0002_9', 'state_q0002_10', 'state_q0002_11', 'state_q0002_12', 'state_q0002_13', 'state_q0002_14', 'state_q0002_15', 'state_q0002_16', 'state_q0002_17', 'state_q0002_18', 'state_q0002_19', 'state_q0002_20', 'state_q0002_21', 'state_q0002_22', 'state_q0002_23', 'state_q0002_24', 'state_q0002_25', 'state_q0002_26', 'state_q0002_27', 'state_q0002_28', 'state_q0002_29', 'state_q0002_30', 'state_q0002_31', 'state_q0002_32', 'state_q0002_33', 'state_q0002_34', 'state_q0002_35', 'state_q0002_36', 'state_q0002_37', 'state_q0002_38', 'state_q0002_39', 'state_q0002_40', 'state_q0002_41', 'state_q0002_42', 'state_q0002_43', 'state_q0002_44', 'state_q0002_45', 'state_q0002_46', 'state_q0002_47', 'state_q0002_48', 'state_q0002_49', 'state_q0002_50', 'state_q0002_51', 'state_q0002_52', 'state_q0002_53', 'state_q0002_54', 'state_q0002_55', 'state_q0002_56', 'state_q0002_57', 'state_q0002_58', 'state_q0002_59', 'state_q0003_0', 'state_q0003_1', 'state_q0003_2', 'state_q0003_3', 'state_q0003_4', 'state_q0003_5', 'state_q0003_6', 'state_q0003_7', 'state_q0003_8', 'state_q0003_9', 'state_q0003_10', 'state_q0003_11', 'state_q0003_12', 'state_q0003_13', 'state_q0003_14', 'state_q0003_15', 'state_q0003_16', 'state_q0003_17', 'state_q0003_18', 'state_q0003_19', 'state_q0003_20', 'state_q0003_21', 'state_q0003_22', 'state_q0003_23', 'state_q0003_24', 'state_q0003_25', 'state_q0003_26', 'state_q0003_27', 'state_q0003_28', 'state_q0003_29', 'state_q0003_30', 'state_q0003_31', 'state_q0003_32', 'state_q0003_33', 'state_q0003_34', 'state_q0003_35', 'state_q0003_36', 'state_q0003_37', 'state_q0003_38', 'state_q0003_39', 'state_q0003_40', 'state_q0003_41', 'state_q0003_42', 'state_q0003_43', 'state_q0003_44', 'state_q0003_45', 'state_q0003_46', 'state_q0003_47', 'state_q0003_48', 'state_q0003_49', 'state_q0003_50', 'state_q0003_51', 'state_q0003_52', 'state_q0003_53', 'state_q0003_54', 'state_q0003_55', 'state_q0003_56', 'state_q0003_57', 'state_q0003_58', 'state_q0003_59', 'state_u_0', 'state_u_1', 'state_u_2', 'state_u_3', 'state_u_4', 'state_u_5', 'state_u_6', 'state_u_7', 'state_u_8', 'state_u_9', 'state_u_10', 'state_u_11', 'state_u_12', 'state_u_13', 'state_u_14', 'state_u_15', 'state_u_16', 'state_u_17', 'state_u_18', 'state_u_19', 'state_u_20', 'state_u_21', 'state_u_22', 'state_u_23', 'state_u_24', 'state_u_25', 'state_u_26', 'state_u_27', 'state_u_28', 'state_u_29', 'state_u_30', 'state_u_31', 'state_u_32', 'state_u_33', 'state_u_34', 'state_u_35', 'state_u_36', 'state_u_37', 'state_u_38', 'state_u_39', 'state_u_40', 'state_u_41', 'state_u_42', 'state_u_43', 'state_u_44', 'state_u_45', 'state_u_46', 'state_u_47', 'state_u_48', 'state_u_49', 'state_u_50', 'state_u_51', 'state_u_52', 'state_u_53', 'state_u_54', 'state_u_55', 'state_u_56', 'state_u_57', 'state_u_58', 'state_u_59', 'state_v_0', 'state_v_1', 'state_v_2', 'state_v_3', 'state_v_4', 'state_v_5', 'state_v_6', 'state_v_7', 'state_v_8', 'state_v_9', 'state_v_10', 'state_v_11', 'state_v_12', 'state_v_13', 'state_v_14', 'state_v_15', 'state_v_16', 'state_v_17', 'state_v_18', 'state_v_19', 'state_v_20', 'state_v_21', 'state_v_22', 'state_v_23', 'state_v_24', 'state_v_25', 'state_v_26', 'state_v_27', 'state_v_28', 'state_v_29', 'state_v_30', 'state_v_31', 'state_v_32', 'state_v_33', 'state_v_34', 'state_v_35', 'state_v_36', 'state_v_37', 'state_v_38', 'state_v_39', 'state_v_40', 'state_v_41', 'state_v_42', 'state_v_43', 'state_v_44', 'state_v_45', 'state_v_46', 'state_v_47', 'state_v_48', 'state_v_49', 'state_v_50', 'state_v_51', 'state_v_52', 'state_v_53', 'state_v_54', 'state_v_55', 'state_v_56', 'state_v_57', 'state_v_58', 'state_v_59', 'pbuf_ozone_0', 'pbuf_ozone_1', 'pbuf_ozone_2', 'pbuf_ozone_3', 'pbuf_ozone_4', 'pbuf_ozone_5', 'pbuf_ozone_6', 'pbuf_ozone_7', 'pbuf_ozone_8', 'pbuf_ozone_9', 'pbuf_ozone_10', 'pbuf_ozone_11', 'pbuf_ozone_12', 'pbuf_ozone_13', 'pbuf_ozone_14', 'pbuf_ozone_15', 'pbuf_ozone_16', 'pbuf_ozone_17', 'pbuf_ozone_18', 'pbuf_ozone_19', 'pbuf_ozone_20', 'pbuf_ozone_21', 'pbuf_ozone_22', 'pbuf_ozone_23', 'pbuf_ozone_24', 'pbuf_ozone_25', 'pbuf_ozone_26', 'pbuf_ozone_27', 'pbuf_ozone_28', 'pbuf_ozone_29', 'pbuf_ozone_30', 'pbuf_ozone_31', 'pbuf_ozone_32', 'pbuf_ozone_33', 'pbuf_ozone_34', 'pbuf_ozone_35', 'pbuf_ozone_36', 'pbuf_ozone_37', 'pbuf_ozone_38', 'pbuf_ozone_39', 'pbuf_ozone_40', 'pbuf_ozone_41', 'pbuf_ozone_42', 'pbuf_ozone_43', 'pbuf_ozone_44', 'pbuf_ozone_45', 'pbuf_ozone_46', 'pbuf_ozone_47', 'pbuf_ozone_48', 'pbuf_ozone_49', 'pbuf_ozone_50', 'pbuf_ozone_51', 'pbuf_ozone_52', 'pbuf_ozone_53', 'pbuf_ozone_54', 'pbuf_ozone_55', 'pbuf_ozone_56', 'pbuf_ozone_57', 'pbuf_ozone_58', 'pbuf_ozone_59', 'pbuf_CH4_0', 'pbuf_CH4_1', 'pbuf_CH4_2', 'pbuf_CH4_3', 'pbuf_CH4_4', 'pbuf_CH4_5', 'pbuf_CH4_6', 'pbuf_CH4_7', 'pbuf_CH4_8', 'pbuf_CH4_9', 'pbuf_CH4_10', 'pbuf_CH4_11', 'pbuf_CH4_12', 'pbuf_CH4_13', 'pbuf_CH4_14', 'pbuf_CH4_15', 'pbuf_CH4_16', 'pbuf_CH4_17', 'pbuf_CH4_18', 'pbuf_CH4_19', 'pbuf_CH4_20', 'pbuf_CH4_21', 'pbuf_CH4_22', 'pbuf_CH4_23', 'pbuf_CH4_24', 'pbuf_CH4_25', 'pbuf_CH4_26', 'pbuf_CH4_27', 'pbuf_CH4_28', 'pbuf_CH4_29', 'pbuf_CH4_30', 'pbuf_CH4_31', 'pbuf_CH4_32', 'pbuf_CH4_33', 'pbuf_CH4_34', 'pbuf_CH4_35', 'pbuf_CH4_36', 'pbuf_CH4_37', 'pbuf_CH4_38', 'pbuf_CH4_39', 'pbuf_CH4_40', 'pbuf_CH4_41', 'pbuf_CH4_42', 'pbuf_CH4_43', 'pbuf_CH4_44', 'pbuf_CH4_45', 'pbuf_CH4_46', 'pbuf_CH4_47', 'pbuf_CH4_48', 'pbuf_CH4_49', 'pbuf_CH4_50', 'pbuf_CH4_51', 'pbuf_CH4_52', 'pbuf_CH4_53', 'pbuf_CH4_54', 'pbuf_CH4_55', 'pbuf_CH4_56', 'pbuf_CH4_57', 'pbuf_CH4_58', 'pbuf_CH4_59', 'pbuf_N2O_0', 'pbuf_N2O_1', 'pbuf_N2O_2', 'pbuf_N2O_3', 'pbuf_N2O_4', 'pbuf_N2O_5', 'pbuf_N2O_6', 'pbuf_N2O_7', 'pbuf_N2O_8', 'pbuf_N2O_9', 'pbuf_N2O_10', 'pbuf_N2O_11', 'pbuf_N2O_12', 'pbuf_N2O_13', 'pbuf_N2O_14', 'pbuf_N2O_15', 'pbuf_N2O_16', 'pbuf_N2O_17', 'pbuf_N2O_18', 'pbuf_N2O_19', 'pbuf_N2O_20', 'pbuf_N2O_21', 'pbuf_N2O_22', 'pbuf_N2O_23', 'pbuf_N2O_24', 'pbuf_N2O_25', 'pbuf_N2O_26', 'pbuf_N2O_27', 'pbuf_N2O_28', 'pbuf_N2O_29', 'pbuf_N2O_30', 'pbuf_N2O_31', 'pbuf_N2O_32', 'pbuf_N2O_33', 'pbuf_N2O_34', 'pbuf_N2O_35', 'pbuf_N2O_36', 'pbuf_N2O_37', 'pbuf_N2O_38', 'pbuf_N2O_39', 'pbuf_N2O_40', 'pbuf_N2O_41', 'pbuf_N2O_42', 'pbuf_N2O_43', 'pbuf_N2O_44', 'pbuf_N2O_45', 'pbuf_N2O_46', 'pbuf_N2O_47', 'pbuf_N2O_48', 'pbuf_N2O_49', 'pbuf_N2O_50', 'pbuf_N2O_51', 'pbuf_N2O_52', 'pbuf_N2O_53', 'pbuf_N2O_54', 'pbuf_N2O_55', 'pbuf_N2O_56', 'pbuf_N2O_57', 'pbuf_N2O_58', 'pbuf_N2O_59'] not found in the data\n",
      "Using only 490 columns out of 556\n",
      "Warning: Columns ['ptend_q0001_1', 'ptend_q0001_2', 'ptend_q0001_3', 'ptend_q0001_4', 'ptend_q0001_5', 'ptend_q0001_6', 'ptend_q0001_7', 'ptend_q0001_8', 'ptend_q0001_9', 'ptend_q0001_10', 'ptend_q0001_11', 'ptend_q0002_1', 'ptend_q0002_2', 'ptend_q0002_3', 'ptend_q0002_4', 'ptend_q0002_5', 'ptend_q0002_6', 'ptend_q0002_7', 'ptend_q0002_8', 'ptend_q0002_9', 'ptend_q0002_10', 'ptend_q0002_11', 'ptend_q0002_12', 'ptend_q0002_13', 'ptend_q0002_14', 'ptend_q0002_15', 'ptend_q0002_16', 'ptend_q0002_17', 'ptend_q0002_18', 'ptend_q0002_19', 'ptend_q0002_20', 'ptend_q0002_21', 'ptend_q0002_22', 'ptend_q0003_1', 'ptend_q0003_2', 'ptend_q0003_3', 'ptend_q0003_4', 'ptend_q0003_5', 'ptend_q0003_6', 'ptend_q0003_7', 'ptend_q0003_8', 'ptend_q0003_9', 'ptend_q0003_10', 'ptend_q0003_11', 'ptend_u_1', 'ptend_u_2', 'ptend_u_3', 'ptend_u_4', 'ptend_u_5', 'ptend_u_6', 'ptend_u_7', 'ptend_u_8', 'ptend_u_9', 'ptend_u_10', 'ptend_u_11', 'ptend_v_1', 'ptend_v_2', 'ptend_v_3', 'ptend_v_4', 'ptend_v_5', 'ptend_v_6', 'ptend_v_7', 'ptend_v_8', 'ptend_v_9', 'ptend_v_10', 'ptend_v_11'] not found in the data\n",
      "Using only 302 columns out of 368\n"
     ]
    }
   ],
   "source": [
    "filtered_feat_cols = [col for col in feat_cols if col in train.columns]\n",
    "filtered_target_cols = [col for col in target_cols if col in train.columns]\n",
    "\n",
    "for i, n in enumerate([filtered_feat_cols, filtered_target_cols]):\n",
    "    f = [feat_cols, target_cols][i]\n",
    "    missing_cols = [col for col in f if col not in filtered_target_cols]\n",
    "    print(f\"Warning: Columns {missing_cols} not found in the data\")\n",
    "    print(f\"Using only {len(n)} columns out of {len(f)}\")"
   ]
  },
  {
   "cell_type": "code",
   "execution_count": 92,
   "metadata": {},
   "outputs": [],
   "source": [
    "# giba's dataset has dropped some columns, so we need to filter them out\n",
    "def get_input_data(data, is_feat=True):\n",
    "    f = filtered_feat_cols if is_feat else filtered_target_cols\n",
    "    return data[f].values\n",
    "\n",
    "\n",
    "X_train = get_input_data(train, True)\n",
    "y_train = get_input_data(train, False)\n",
    "X_valid = get_input_data(valid, True)\n",
    "y_valid = get_input_data(valid, False)"
   ]
  },
  {
   "cell_type": "code",
   "execution_count": 93,
   "metadata": {},
   "outputs": [],
   "source": [
    "input_size = X_train.shape[1]  # len(feat_cols)  # number of input features\n",
    "output_size = y_train.shape[1]  # len(target_cols)  # number of output features\n",
    "\n",
    "# Initialize model\n",
    "model = TabularModel(input_size, output_size)\n",
    "\n",
    "# Define loss function and optimizer\n",
    "criterion = nn.MSELoss()\n",
    "optimizer = optim.Adam(model.parameters(), lr=0.001)"
   ]
  },
  {
   "cell_type": "markdown",
   "metadata": {},
   "source": [
    "## Training loop"
   ]
  },
  {
   "cell_type": "code",
   "execution_count": 94,
   "metadata": {},
   "outputs": [
    {
     "name": "stderr",
     "output_type": "stream",
     "text": [
      " 10%|█         | 1/10 [00:46<06:56, 46.24s/it]"
     ]
    },
    {
     "name": "stdout",
     "output_type": "stream",
     "text": [
      "Epoch [1/10], Loss: 20.8973, Train R2: -2116696537679672576.0000, Valid R2: -1845042251760868553392128.0000\n"
     ]
    },
    {
     "name": "stderr",
     "output_type": "stream",
     "text": [
      " 20%|██        | 2/10 [01:21<05:19, 39.94s/it]"
     ]
    },
    {
     "name": "stdout",
     "output_type": "stream",
     "text": [
      "Epoch [2/10], Loss: 3.4016, Train R2: -908239583504530560.0000, Valid R2: -795322693952129355218944.0000\n"
     ]
    },
    {
     "name": "stderr",
     "output_type": "stream",
     "text": [
      " 30%|███       | 3/10 [01:59<04:31, 38.74s/it]"
     ]
    },
    {
     "name": "stdout",
     "output_type": "stream",
     "text": [
      "Epoch [3/10], Loss: 2.1229, Train R2: -450711656409330752.0000, Valid R2: -398287535967276887965696.0000\n"
     ]
    },
    {
     "name": "stderr",
     "output_type": "stream",
     "text": [
      " 40%|████      | 4/10 [02:37<03:51, 38.58s/it]"
     ]
    },
    {
     "name": "stdout",
     "output_type": "stream",
     "text": [
      "Epoch [4/10], Loss: 1.6508, Train R2: -303938431201440896.0000, Valid R2: -263453835316489835511808.0000\n"
     ]
    },
    {
     "name": "stderr",
     "output_type": "stream",
     "text": [
      " 50%|█████     | 5/10 [03:20<03:21, 40.32s/it]"
     ]
    },
    {
     "name": "stdout",
     "output_type": "stream",
     "text": [
      "Epoch [5/10], Loss: 1.4172, Train R2: -197399618178752448.0000, Valid R2: -175857471672784240246784.0000\n"
     ]
    },
    {
     "name": "stderr",
     "output_type": "stream",
     "text": [
      " 60%|██████    | 6/10 [03:53<02:31, 37.85s/it]"
     ]
    },
    {
     "name": "stdout",
     "output_type": "stream",
     "text": [
      "Epoch [6/10], Loss: 1.2882, Train R2: -122194440558303840.0000, Valid R2: -106582673090409960308736.0000\n"
     ]
    },
    {
     "name": "stderr",
     "output_type": "stream",
     "text": [
      " 70%|███████   | 7/10 [04:32<01:54, 38.19s/it]"
     ]
    },
    {
     "name": "stdout",
     "output_type": "stream",
     "text": [
      "Epoch [7/10], Loss: 1.2028, Train R2: -89714059691638432.0000, Valid R2: -79073288966098464538624.0000\n"
     ]
    },
    {
     "name": "stderr",
     "output_type": "stream",
     "text": [
      " 80%|████████  | 8/10 [05:05<01:13, 36.55s/it]"
     ]
    },
    {
     "name": "stdout",
     "output_type": "stream",
     "text": [
      "Epoch [8/10], Loss: 1.1556, Train R2: -54204299037236224.0000, Valid R2: -47075526127696197189632.0000\n"
     ]
    },
    {
     "name": "stderr",
     "output_type": "stream",
     "text": [
      " 90%|█████████ | 9/10 [05:38<00:35, 35.28s/it]"
     ]
    },
    {
     "name": "stdout",
     "output_type": "stream",
     "text": [
      "Epoch [9/10], Loss: 1.1232, Train R2: -26910146925312176.0000, Valid R2: -23532317618205601300480.0000\n"
     ]
    },
    {
     "name": "stderr",
     "output_type": "stream",
     "text": [
      "100%|██████████| 10/10 [06:11<00:00, 37.19s/it]"
     ]
    },
    {
     "name": "stdout",
     "output_type": "stream",
     "text": [
      "Epoch [10/10], Loss: 1.1008, Train R2: -15252295179154518.0000, Valid R2: -13656765719031591206912.0000\n"
     ]
    },
    {
     "name": "stderr",
     "output_type": "stream",
     "text": [
      "\n"
     ]
    }
   ],
   "source": [
    "num_epochs = 10\n",
    "\n",
    "# tensors for convenience\n",
    "X_train_tensor = torch.tensor(X_train)\n",
    "y_train_tensor = torch.tensor(y_train)\n",
    "X_valid_tensor = torch.tensor(X_valid)\n",
    "y_valid_tensor = torch.tensor(y_valid)\n",
    "\n",
    "# history\n",
    "train_losses = []\n",
    "valid_losses = []\n",
    "train_r2_scores = []\n",
    "valid_r2_scores = []\n",
    "\n",
    "for epoch in tqdm(range(num_epochs)):\n",
    "    model.train()  # Set the model to training mode\n",
    "    optimizer.zero_grad()  # Clear gradients\n",
    "\n",
    "    # Forward pass\n",
    "    outputs = model(X_train_tensor)\n",
    "\n",
    "    # Compute loss\n",
    "    loss = criterion(outputs, y_train_tensor)\n",
    "\n",
    "    # Backward pass\n",
    "    loss.backward()\n",
    "\n",
    "    for name, param in model.named_parameters():\n",
    "        if 'fc5' not in name:\n",
    "            param.grad = None\n",
    "\n",
    "    optimizer.step()\n",
    "\n",
    "    # Compute R2 score\n",
    "    train_preds = model(X_train_tensor).detach().numpy()\n",
    "    valid_preds = model(X_valid_tensor).detach().numpy()\n",
    "\n",
    "    train_r2 = r2_score(y_train, train_preds)\n",
    "    valid_r2 = r2_score(y_valid, valid_preds)\n",
    "\n",
    "    train_losses.append(loss.item())\n",
    "    valid_losses.append(valid_r2)\n",
    "    train_r2_scores.append(train_r2)\n",
    "    valid_r2_scores.append(valid_r2)\n",
    "\n",
    "    # Print progress\n",
    "    print(f\"Epoch [{epoch+1}/{num_epochs}], Loss: {loss.item():.4f}, Train R2: {train_r2:.4f}, Valid R2: {valid_r2:.4f}\")\n"
   ]
  },
  {
   "cell_type": "code",
   "execution_count": 95,
   "metadata": {},
   "outputs": [
    {
     "data": {
      "image/png": "[encoded data removed]",
      "text/plain": [
       "<Figure size 640x480 with 1 Axes>"
      ]
     },
     "metadata": {},
     "output_type": "display_data"
    }
   ],
   "source": [
    "import matplotlib.pyplot as plt\n",
    "\n",
    "plt.plot(train_losses, label='Train Loss')\n",
    "plt.plot(valid_losses, label='Valid R2')\n",
    "plt.xlabel('Epoch')\n",
    "plt.ylabel('Loss / R2')\n",
    "plt.legend()\n",
    "plt.show()"
   ]
  },
  {
   "cell_type": "markdown",
   "metadata": {},
   "source": [
    "# Predict"
   ]
  },
  {
   "cell_type": "code",
   "execution_count": 79,
   "metadata": {},
   "outputs": [],
   "source": [
    "X_test = torch.tensor(get_input_data(test, True))\n",
    "test_preds = model(X_test).detach().numpy()\n",
    "test_preds = pd.DataFrame(test_preds, columns=filtered_target_cols)"
   ]
  },
  {
   "cell_type": "markdown",
   "metadata": {},
   "source": [
    "# Write submission file"
   ]
  },
  {
   "cell_type": "code",
   "execution_count": 62,
   "metadata": {},
   "outputs": [],
   "source": [
    "# /kaggle/input/leap-atmospheric-physics-ai-climsim\n",
    "weights = pd.read_csv(\"./data/sample_submission.csv\", nrows=1)\n",
    "weights = weights.drop(['sample_id'], axis=1).T.to_dict()[0]"
   ]
  },
  {
   "cell_type": "code",
   "execution_count": 89,
   "metadata": {},
   "outputs": [
    {
     "data": {
      "text/plain": [
       "set()"
      ]
     },
     "execution_count": 89,
     "metadata": {},
     "output_type": "execute_result"
    }
   ],
   "source": [
    "set(filtered_target_cols) - set(test_preds.columns)"
   ]
  },
  {
   "cell_type": "code",
   "execution_count": 90,
   "metadata": {},
   "outputs": [
    {
     "name": "stderr",
     "output_type": "stream",
     "text": [
      "100%|██████████| 302/302 [00:05<00:00, 54.49it/s]\n"
     ]
    },
    {
     "data": {
      "text/html": [
       "<div>\n",
       "<style scoped>\n",
       "    .dataframe tbody tr th:only-of-type {\n",
       "        vertical-align: middle;\n",
       "    }\n",
       "\n",
       "    .dataframe tbody tr th {\n",
       "        vertical-align: top;\n",
       "    }\n",
       "\n",
       "    .dataframe thead th {\n",
       "        text-align: right;\n",
       "    }\n",
       "</style>\n",
       "<table border=\"1\" class=\"dataframe\">\n",
       "  <thead>\n",
       "    <tr style=\"text-align: right;\">\n",
       "      <th></th>\n",
       "      <th>sample_id</th>\n",
       "      <th>ptend_t_0</th>\n",
       "      <th>ptend_t_1</th>\n",
       "      <th>ptend_t_2</th>\n",
       "      <th>ptend_t_3</th>\n",
       "      <th>ptend_t_4</th>\n",
       "      <th>ptend_t_5</th>\n",
       "      <th>ptend_t_6</th>\n",
       "      <th>ptend_t_7</th>\n",
       "      <th>ptend_t_8</th>\n",
       "      <th>...</th>\n",
       "      <th>ptend_v_58</th>\n",
       "      <th>ptend_v_59</th>\n",
       "      <th>cam_out_NETSW</th>\n",
       "      <th>cam_out_FLWDS</th>\n",
       "      <th>cam_out_PRECSC</th>\n",
       "      <th>cam_out_PRECC</th>\n",
       "      <th>cam_out_SOLS</th>\n",
       "      <th>cam_out_SOLL</th>\n",
       "      <th>cam_out_SOLSD</th>\n",
       "      <th>cam_out_SOLLD</th>\n",
       "    </tr>\n",
       "  </thead>\n",
       "  <tbody>\n",
       "    <tr>\n",
       "      <th>0</th>\n",
       "      <td>test_169651</td>\n",
       "      <td>-0.545411</td>\n",
       "      <td>0.656683</td>\n",
       "      <td>0.819095</td>\n",
       "      <td>1.322784</td>\n",
       "      <td>-0.510279</td>\n",
       "      <td>2.020569</td>\n",
       "      <td>-0.288234</td>\n",
       "      <td>1.420132</td>\n",
       "      <td>-2.635216</td>\n",
       "      <td>...</td>\n",
       "      <td>3.590868</td>\n",
       "      <td>-1.014814</td>\n",
       "      <td>-0.319090</td>\n",
       "      <td>4.114001</td>\n",
       "      <td>-1.387763</td>\n",
       "      <td>-0.797865</td>\n",
       "      <td>-1.210394</td>\n",
       "      <td>-1.609248</td>\n",
       "      <td>-0.033920</td>\n",
       "      <td>2.197917</td>\n",
       "    </tr>\n",
       "    <tr>\n",
       "      <th>1</th>\n",
       "      <td>test_524862</td>\n",
       "      <td>-0.609285</td>\n",
       "      <td>2.108539</td>\n",
       "      <td>0.563204</td>\n",
       "      <td>1.192242</td>\n",
       "      <td>-0.553749</td>\n",
       "      <td>0.623614</td>\n",
       "      <td>-1.520159</td>\n",
       "      <td>0.820504</td>\n",
       "      <td>-3.073966</td>\n",
       "      <td>...</td>\n",
       "      <td>2.149581</td>\n",
       "      <td>2.065135</td>\n",
       "      <td>-0.206421</td>\n",
       "      <td>2.331555</td>\n",
       "      <td>-2.456176</td>\n",
       "      <td>0.675187</td>\n",
       "      <td>-0.273587</td>\n",
       "      <td>-1.956471</td>\n",
       "      <td>-1.625339</td>\n",
       "      <td>2.244554</td>\n",
       "    </tr>\n",
       "    <tr>\n",
       "      <th>2</th>\n",
       "      <td>test_634129</td>\n",
       "      <td>-1.213737</td>\n",
       "      <td>-0.114074</td>\n",
       "      <td>1.432602</td>\n",
       "      <td>0.015002</td>\n",
       "      <td>-0.166612</td>\n",
       "      <td>2.268651</td>\n",
       "      <td>-0.503124</td>\n",
       "      <td>3.613167</td>\n",
       "      <td>-4.739151</td>\n",
       "      <td>...</td>\n",
       "      <td>3.533390</td>\n",
       "      <td>2.110069</td>\n",
       "      <td>-0.673640</td>\n",
       "      <td>2.688759</td>\n",
       "      <td>-2.469991</td>\n",
       "      <td>-0.049785</td>\n",
       "      <td>-0.316239</td>\n",
       "      <td>-0.911005</td>\n",
       "      <td>-3.096332</td>\n",
       "      <td>1.462231</td>\n",
       "    </tr>\n",
       "    <tr>\n",
       "      <th>3</th>\n",
       "      <td>test_403572</td>\n",
       "      <td>-0.008903</td>\n",
       "      <td>-0.313070</td>\n",
       "      <td>0.917899</td>\n",
       "      <td>3.203015</td>\n",
       "      <td>1.355351</td>\n",
       "      <td>0.258972</td>\n",
       "      <td>-0.507111</td>\n",
       "      <td>0.792349</td>\n",
       "      <td>-5.267419</td>\n",
       "      <td>...</td>\n",
       "      <td>2.115077</td>\n",
       "      <td>1.309831</td>\n",
       "      <td>-0.987785</td>\n",
       "      <td>2.151760</td>\n",
       "      <td>-1.539400</td>\n",
       "      <td>-1.501522</td>\n",
       "      <td>0.057080</td>\n",
       "      <td>-0.864071</td>\n",
       "      <td>0.142043</td>\n",
       "      <td>-0.081925</td>\n",
       "    </tr>\n",
       "    <tr>\n",
       "      <th>4</th>\n",
       "      <td>test_484578</td>\n",
       "      <td>-1.587302</td>\n",
       "      <td>2.319473</td>\n",
       "      <td>0.190565</td>\n",
       "      <td>-0.100965</td>\n",
       "      <td>0.629180</td>\n",
       "      <td>-0.967829</td>\n",
       "      <td>-0.126905</td>\n",
       "      <td>1.534175</td>\n",
       "      <td>-2.267677</td>\n",
       "      <td>...</td>\n",
       "      <td>1.745634</td>\n",
       "      <td>2.064975</td>\n",
       "      <td>-0.777585</td>\n",
       "      <td>3.215446</td>\n",
       "      <td>-1.214559</td>\n",
       "      <td>0.714900</td>\n",
       "      <td>-0.188883</td>\n",
       "      <td>-1.980971</td>\n",
       "      <td>0.692985</td>\n",
       "      <td>2.850944</td>\n",
       "    </tr>\n",
       "  </tbody>\n",
       "</table>\n",
       "<p>5 rows × 369 columns</p>\n",
       "</div>"
      ],
      "text/plain": [
       "     sample_id  ptend_t_0  ptend_t_1  ptend_t_2  ptend_t_3  ptend_t_4  \\\n",
       "0  test_169651  -0.545411   0.656683   0.819095   1.322784  -0.510279   \n",
       "1  test_524862  -0.609285   2.108539   0.563204   1.192242  -0.553749   \n",
       "2  test_634129  -1.213737  -0.114074   1.432602   0.015002  -0.166612   \n",
       "3  test_403572  -0.008903  -0.313070   0.917899   3.203015   1.355351   \n",
       "4  test_484578  -1.587302   2.319473   0.190565  -0.100965   0.629180   \n",
       "\n",
       "   ptend_t_5  ptend_t_6  ptend_t_7  ptend_t_8  ...  ptend_v_58  ptend_v_59  \\\n",
       "0   2.020569  -0.288234   1.420132  -2.635216  ...    3.590868   -1.014814   \n",
       "1   0.623614  -1.520159   0.820504  -3.073966  ...    2.149581    2.065135   \n",
       "2   2.268651  -0.503124   3.613167  -4.739151  ...    3.533390    2.110069   \n",
       "3   0.258972  -0.507111   0.792349  -5.267419  ...    2.115077    1.309831   \n",
       "4  -0.967829  -0.126905   1.534175  -2.267677  ...    1.745634    2.064975   \n",
       "\n",
       "   cam_out_NETSW  cam_out_FLWDS  cam_out_PRECSC  cam_out_PRECC  cam_out_SOLS  \\\n",
       "0      -0.319090       4.114001       -1.387763      -0.797865     -1.210394   \n",
       "1      -0.206421       2.331555       -2.456176       0.675187     -0.273587   \n",
       "2      -0.673640       2.688759       -2.469991      -0.049785     -0.316239   \n",
       "3      -0.987785       2.151760       -1.539400      -1.501522      0.057080   \n",
       "4      -0.777585       3.215446       -1.214559       0.714900     -0.188883   \n",
       "\n",
       "   cam_out_SOLL  cam_out_SOLSD  cam_out_SOLLD  \n",
       "0     -1.609248      -0.033920       2.197917  \n",
       "1     -1.956471      -1.625339       2.244554  \n",
       "2     -0.911005      -3.096332       1.462231  \n",
       "3     -0.864071       0.142043      -0.081925  \n",
       "4     -1.980971       0.692985       2.850944  \n",
       "\n",
       "[5 rows x 369 columns]"
      ]
     },
     "execution_count": 90,
     "metadata": {},
     "output_type": "execute_result"
    }
   ],
   "source": [
    "submission = pd.read_csv(\"./data/sample_submission.csv\")\n",
    "\n",
    "for col in tqdm(filtered_target_cols):\n",
    "    if weights[col] > 0:\n",
    "        submission[col] = test_preds[col].values\n",
    "    else:\n",
    "        submission[col] = 0.\n",
    "        \n",
    "submission.to_csv('submission.csv', index=False)        \n",
    "submission.head()"
   ]
  },
  {
   "cell_type": "code",
   "execution_count": null,
   "metadata": {},
   "outputs": [],
   "source": []
  }
 ],
 "metadata": {
  "kernelspec": {
   "display_name": "Python 3",
   "language": "python",
   "name": "python3"
  },
  "language_info": {
   "codemirror_mode": {
    "name": "ipython",
    "version": 3
   },
   "file_extension": ".py",
   "mimetype": "text/x-python",
   "name": "python",
   "nbconvert_exporter": "python",
   "pygments_lexer": "ipython3",
   "version": "3.11.9"
  }
 },
 "nbformat": 4,
 "nbformat_minor": 2
}
